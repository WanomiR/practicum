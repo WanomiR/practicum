{
 "cells": [
  {
   "cell_type": "markdown",
   "id": "275e3c73-6a55-4ed6-8e68-7ab986a2afbc",
   "metadata": {},
   "source": [
    "# Music Valence Prediction\n",
    "Spotify data | Gradient boosting | "
   ]
  },
  {
   "cell_type": "markdown",
   "id": "01ef2c7f-9ed0-4bef-9c3c-a006e5697102",
   "metadata": {},
   "source": [
    "***"
   ]
  },
  {
   "cell_type": "markdown",
   "id": "7d759547-a994-4483-9a32-fc3381449905",
   "metadata": {},
   "source": [
    "## Project description"
   ]
  },
  {
   "cell_type": "markdown",
   "id": "c73bf6a2-b177-4d92-bf5e-462a9a880ede",
   "metadata": {},
   "source": [
    "### The objective"
   ]
  },
  {
   "cell_type": "markdown",
   "id": "1b97f95d-406d-462d-b72d-aef3828628d7",
   "metadata": {},
   "source": [
    "The goal of this task is to develop a Python-based module to predict the valence of newly released pop songs. Two approaches are to use as an input:\n",
    "- the audio data (e.g. .wav files)\n",
    "- the songs lyrics\n",
    "\n",
    "Publicly available datasets can be used for training and testing."
   ]
  },
  {
   "cell_type": "markdown",
   "id": "30840372-f10c-492a-88a4-140238dae2a4",
   "metadata": {},
   "source": [
    "### Audio features"
   ]
  },
  {
   "cell_type": "markdown",
   "id": "d15f39b7-0073-4055-965a-31a30d994dc2",
   "metadata": {},
   "source": [
    "For model training, the following audio features will be used:\n",
    "- Mel Frequency Cepstral Coefficients\n",
    "- Mel Spectogram\n",
    "- Spectral Contrast\n",
    "- Root Mean Square\n",
    "- Chroma Vector\n",
    "- Tonal Centroid Features"
   ]
  },
  {
   "cell_type": "markdown",
   "id": "c11fbc12-f77b-43c2-81ee-41d394dc02de",
   "metadata": {},
   "source": [
    "### The dataset"
   ]
  },
  {
   "cell_type": "markdown",
   "id": "34b5b8b5-49e3-42bd-8168-073474f13ec5",
   "metadata": {},
   "source": [
    "In this project, data from Spotify will be used: "
   ]
  },
  {
   "cell_type": "markdown",
   "id": "fb758fdd-2ea0-450f-b6ea-1b0884271a1d",
   "metadata": {},
   "source": [
    "*** "
   ]
  },
  {
   "cell_type": "markdown",
   "id": "94ed27de-7492-4dfa-89d7-670793d29896",
   "metadata": {},
   "source": [
    "## Imports and configurations"
   ]
  },
  {
   "cell_type": "code",
   "execution_count": 1,
   "id": "b1dd80e4-a5ea-4fa7-86e0-a43005770359",
   "metadata": {},
   "outputs": [],
   "source": [
    "import requests\n",
    "import re\n",
    "\n",
    "import numpy as np\n",
    "import pandas as pd\n",
    "from bs4 import BeautifulSoup as BS\n",
    "from tqdm import tqdm\n",
    "\n",
    "import matplotlib.pyplot as plt\n",
    "import seaborn as sns\n",
    "\n",
    "import spotipy\n",
    "from spotipy.oauth2 import SpotifyClientCredentials "
   ]
  },
  {
   "cell_type": "code",
   "execution_count": 2,
   "id": "67b1ce75-bba7-468d-8c36-18e02514e9ae",
   "metadata": {},
   "outputs": [],
   "source": [
    "plt.style.use(\"seaborn-v0_8\")\n",
    "sns.set_style(\"dark\", {\"axes.facecolor\": \"0.95\"})\n",
    "sns.set_palette(\"mako\")\n",
    "\n",
    "plt.rcParams[\"figure.figsize\"] = (9, 4)\n",
    "%config InlineBackend.figure_format = \"retina\""
   ]
  },
  {
   "cell_type": "markdown",
   "id": "fa72b0ba-305f-4247-ac36-2723849f2bf8",
   "metadata": {},
   "source": [
    "***"
   ]
  },
  {
   "cell_type": "markdown",
   "id": "63a2c9f1-3f32-44bb-a538-209d59ae4123",
   "metadata": {},
   "source": [
    "## Data scraping"
   ]
  },
  {
   "cell_type": "markdown",
   "id": "d89f2bab-3a64-4f2e-9110-dedac3967b4e",
   "metadata": {},
   "source": [
    "### Top artists and songs"
   ]
  },
  {
   "cell_type": "markdown",
   "id": "95634272-1f83-4915-a49f-8a2622ce199f",
   "metadata": {},
   "source": [
    "Create a list of 1000 most popular artists using the data from the [Spotify Chart History](https://kworb.net/spotify/artists.html) web page. "
   ]
  },
  {
   "cell_type": "code",
   "execution_count": 3,
   "id": "ee8e005b-63a7-401b-a757-d2d7f8fcdc16",
   "metadata": {},
   "outputs": [
    {
     "data": {
      "text/plain": [
       "200"
      ]
     },
     "execution_count": 3,
     "metadata": {},
     "output_type": "execute_result"
    }
   ],
   "source": [
    "chart_hist_URL = \"https://kworb.net/spotify/artists.html\"\n",
    "\n",
    "req = requests.get(chart_hist_URL)\n",
    "req.status_code"
   ]
  },
  {
   "cell_type": "code",
   "execution_count": 4,
   "id": "b563d911-40a4-477f-ae67-94ec7d9cae41",
   "metadata": {
    "tags": []
   },
   "outputs": [],
   "source": [
    "# encode the page content for proper artist names displaying\n",
    "content = req.text.encode(\"latin-1\")\n",
    "\n",
    "soup = BS(content, 'lxml')"
   ]
  },
  {
   "cell_type": "code",
   "execution_count": 5,
   "id": "467018c2-0467-4d17-bb4a-01e97b2dc50a",
   "metadata": {},
   "outputs": [
    {
     "data": {
      "text/plain": [
       "1"
      ]
     },
     "execution_count": 5,
     "metadata": {},
     "output_type": "execute_result"
    }
   ],
   "source": [
    "# find the top artists table \n",
    "tabular_data = soup.find_all('table', attrs={\"id\":\"spotifyartistindex\"})\n",
    "len(tabular_data) # check how many found"
   ]
  },
  {
   "cell_type": "code",
   "execution_count": 6,
   "id": "f4324275-9242-4a1c-9882-83399987db94",
   "metadata": {},
   "outputs": [
    {
     "data": {
      "text/plain": [
       "1000"
      ]
     },
     "execution_count": 6,
     "metadata": {},
     "output_type": "execute_result"
    }
   ],
   "source": [
    "# keep only the first 1000 rows (without header)\n",
    "table_rows = tabular_data[0].find_all(\"tr\")[1:1001]\n",
    "len(table_rows)"
   ]
  },
  {
   "cell_type": "code",
   "execution_count": 7,
   "id": "01815951-ea57-4fe4-806f-aabc84e6a8f9",
   "metadata": {},
   "outputs": [],
   "source": [
    "# get the atrist names and number of streams\n",
    "artists = []\n",
    "streams = []\n",
    "\n",
    "for row in table_rows:\n",
    "    \n",
    "    artist = row.find(\"a\")\n",
    "    artist = re.search(\"(?<=>).+(?=</a>)\", str(artist)).group()\n",
    "    artists.append(artist)\n",
    "    \n",
    "    num_streams = row.find_all(\"td\")[-1]\n",
    "    num_streams = re.search(\"(?<=<td>).+(?=</td>)\", str(num_streams)).group()\n",
    "    num_streams = int(\"\".join(re.split(\",\", num_streams)))\n",
    "    streams.append(num_streams)"
   ]
  },
  {
   "cell_type": "code",
   "execution_count": 8,
   "id": "0effe015-ed13-471f-a134-fcf139232830",
   "metadata": {},
   "outputs": [
    {
     "data": {
      "text/html": [
       "<div>\n",
       "<style scoped>\n",
       "    .dataframe tbody tr th:only-of-type {\n",
       "        vertical-align: middle;\n",
       "    }\n",
       "\n",
       "    .dataframe tbody tr th {\n",
       "        vertical-align: top;\n",
       "    }\n",
       "\n",
       "    .dataframe thead th {\n",
       "        text-align: right;\n",
       "    }\n",
       "</style>\n",
       "<table border=\"1\" class=\"dataframe\">\n",
       "  <thead>\n",
       "    <tr style=\"text-align: right;\">\n",
       "      <th></th>\n",
       "      <th>artist</th>\n",
       "      <th>num_of_srtreams</th>\n",
       "    </tr>\n",
       "  </thead>\n",
       "  <tbody>\n",
       "    <tr>\n",
       "      <th>0</th>\n",
       "      <td>Bad Bunny</td>\n",
       "      <td>33446817351</td>\n",
       "    </tr>\n",
       "    <tr>\n",
       "      <th>1</th>\n",
       "      <td>Drake</td>\n",
       "      <td>27268738872</td>\n",
       "    </tr>\n",
       "    <tr>\n",
       "      <th>2</th>\n",
       "      <td>Ed Sheeran</td>\n",
       "      <td>20109467130</td>\n",
       "    </tr>\n",
       "    <tr>\n",
       "      <th>3</th>\n",
       "      <td>Justin Bieber</td>\n",
       "      <td>20106414174</td>\n",
       "    </tr>\n",
       "    <tr>\n",
       "      <th>4</th>\n",
       "      <td>J Balvin</td>\n",
       "      <td>19122158631</td>\n",
       "    </tr>\n",
       "  </tbody>\n",
       "</table>\n",
       "</div>"
      ],
      "text/plain": [
       "          artist  num_of_srtreams\n",
       "0      Bad Bunny      33446817351\n",
       "1          Drake      27268738872\n",
       "2     Ed Sheeran      20109467130\n",
       "3  Justin Bieber      20106414174\n",
       "4       J Balvin      19122158631"
      ]
     },
     "execution_count": 8,
     "metadata": {},
     "output_type": "execute_result"
    }
   ],
   "source": [
    "# create a dataframe\n",
    "top_artists = pd.DataFrame(dict(artist=artists, num_of_srtreams=streams))\n",
    "top_artists.head()"
   ]
  },
  {
   "cell_type": "markdown",
   "id": "57b120c5-15ee-4671-8e9e-a631af5850f7",
   "metadata": {},
   "source": [
    "***"
   ]
  },
  {
   "cell_type": "markdown",
   "id": "0311fd41-8357-4e79-83dc-35fec70fe192",
   "metadata": {},
   "source": [
    "### Spotify ..."
   ]
  },
  {
   "cell_type": "markdown",
   "id": "b8e48405-454a-4cc6-ae16-95cd775c27f2",
   "metadata": {},
   "source": [
    "#### Login items"
   ]
  },
  {
   "cell_type": "code",
   "execution_count": 9,
   "id": "2dc85343-7926-4f14-a3d2-565fb8938191",
   "metadata": {},
   "outputs": [],
   "source": [
    "# read Spotify login items\n",
    "login_items = pd.read_csv(\"spotify_data/spotify_login_items.csv\", index_col=0)\n",
    "login_items = login_items.squeeze() # convert to a series"
   ]
  },
  {
   "cell_type": "code",
   "execution_count": 10,
   "id": "8e66cd99-c770-4142-b73d-99e720f500c7",
   "metadata": {},
   "outputs": [],
   "source": [
    "# authentification\n",
    "credentials = SpotifyClientCredentials(client_id=login_items.client_id,\n",
    "                                       client_secret=login_items.client_secret)\n",
    "\n",
    "sp = spotipy.Spotify(client_credentials_manager=credentials)"
   ]
  },
  {
   "cell_type": "markdown",
   "id": "c74d8f4a-0653-496e-8470-2f8b2ec04a60",
   "metadata": {},
   "source": [
    "#### Get artist's URIs"
   ]
  },
  {
   "cell_type": "code",
   "execution_count": 11,
   "id": "c53af21a-47ad-49bb-86de-6de91ad8d16e",
   "metadata": {},
   "outputs": [
    {
     "name": "stderr",
     "output_type": "stream",
     "text": [
      "100%|███████████████████████████████████████| 1000/1000 [01:47<00:00,  9.31it/s]\n"
     ]
    }
   ],
   "source": [
    "for i in tqdm(range(1000)):\n",
    "    \n",
    "    arist_name = top_artists.loc[i,\"artist\"]\n",
    "    try:\n",
    "        artists = sp.search(q=\"artist:\" + arist_name, type=\"artist\", limit=1)\n",
    "        artist_URI = artists[\"artists\"][\"items\"][0][\"uri\"]\n",
    "        top_artists.loc[i, \"artist_uri\"] = artist_URI\n",
    "    except:\n",
    "        top_artists.loc[i, \"artist_uri\"] = None"
   ]
  },
  {
   "cell_type": "code",
   "execution_count": 12,
   "id": "e334fae4-4468-44a9-8f07-c48c61ed6f98",
   "metadata": {},
   "outputs": [
    {
     "name": "stdout",
     "output_type": "stream",
     "text": [
      "Artists found: 971\n"
     ]
    },
    {
     "data": {
      "text/html": [
       "<div>\n",
       "<style scoped>\n",
       "    .dataframe tbody tr th:only-of-type {\n",
       "        vertical-align: middle;\n",
       "    }\n",
       "\n",
       "    .dataframe tbody tr th {\n",
       "        vertical-align: top;\n",
       "    }\n",
       "\n",
       "    .dataframe thead th {\n",
       "        text-align: right;\n",
       "    }\n",
       "</style>\n",
       "<table border=\"1\" class=\"dataframe\">\n",
       "  <thead>\n",
       "    <tr style=\"text-align: right;\">\n",
       "      <th></th>\n",
       "      <th>artist</th>\n",
       "      <th>num_of_srtreams</th>\n",
       "      <th>artist_uri</th>\n",
       "    </tr>\n",
       "  </thead>\n",
       "  <tbody>\n",
       "    <tr>\n",
       "      <th>0</th>\n",
       "      <td>Bad Bunny</td>\n",
       "      <td>33446817351</td>\n",
       "      <td>spotify:artist:4q3ewBCX7sLwd24euuV69X</td>\n",
       "    </tr>\n",
       "    <tr>\n",
       "      <th>1</th>\n",
       "      <td>Drake</td>\n",
       "      <td>27268738872</td>\n",
       "      <td>spotify:artist:3TVXtAsR1Inumwj472S9r4</td>\n",
       "    </tr>\n",
       "    <tr>\n",
       "      <th>2</th>\n",
       "      <td>Ed Sheeran</td>\n",
       "      <td>20109467130</td>\n",
       "      <td>spotify:artist:6eUKZXaKkcviH0Ku9w2n3V</td>\n",
       "    </tr>\n",
       "    <tr>\n",
       "      <th>3</th>\n",
       "      <td>Justin Bieber</td>\n",
       "      <td>20106414174</td>\n",
       "      <td>spotify:artist:1uNFoZAHBGtllmzznpCI3s</td>\n",
       "    </tr>\n",
       "    <tr>\n",
       "      <th>4</th>\n",
       "      <td>J Balvin</td>\n",
       "      <td>19122158631</td>\n",
       "      <td>spotify:artist:1vyhD5VmyZ7KMfW5gqLgo5</td>\n",
       "    </tr>\n",
       "  </tbody>\n",
       "</table>\n",
       "</div>"
      ],
      "text/plain": [
       "          artist  num_of_srtreams                             artist_uri\n",
       "0      Bad Bunny      33446817351  spotify:artist:4q3ewBCX7sLwd24euuV69X\n",
       "1          Drake      27268738872  spotify:artist:3TVXtAsR1Inumwj472S9r4\n",
       "2     Ed Sheeran      20109467130  spotify:artist:6eUKZXaKkcviH0Ku9w2n3V\n",
       "3  Justin Bieber      20106414174  spotify:artist:1uNFoZAHBGtllmzznpCI3s\n",
       "4       J Balvin      19122158631  spotify:artist:1vyhD5VmyZ7KMfW5gqLgo5"
      ]
     },
     "execution_count": 12,
     "metadata": {},
     "output_type": "execute_result"
    }
   ],
   "source": [
    "top_artists = top_artists.dropna().reset_index(drop=True)\n",
    "\n",
    "length = len(top_artists)\n",
    "print(f\"Artists found: {length}\")\n",
    "\n",
    "top_artists.head()"
   ]
  },
  {
   "cell_type": "markdown",
   "id": "3f91c359-7d59-48f0-8903-988b312ce62d",
   "metadata": {},
   "source": [
    "#### Get 10 songs for each artist"
   ]
  },
  {
   "cell_type": "code",
   "execution_count": 41,
   "id": "a2741a72-9b71-4e6a-b9e6-3a3181b221b7",
   "metadata": {
    "tags": []
   },
   "outputs": [
    {
     "name": "stderr",
     "output_type": "stream",
     "text": [
      "100%|█████████████████████████████████████████| 971/971 [02:54<00:00,  5.55it/s]"
     ]
    },
    {
     "name": "stdout",
     "output_type": "stream",
     "text": [
      "<class 'pandas.core.frame.DataFrame'>\n",
      "Int64Index: 9607 entries, 0 to 9606\n",
      "Data columns (total 5 columns):\n",
      " #   Column      Non-Null Count  Dtype \n",
      "---  ------      --------------  ----- \n",
      " 0   artist      9607 non-null   object\n",
      " 1   artist_uri  9607 non-null   object\n",
      " 2   track_name  9607 non-null   object\n",
      " 3   track_id    9607 non-null   object\n",
      " 4   url         8654 non-null   object\n",
      "dtypes: object(5)\n",
      "memory usage: 708.4+ KB\n"
     ]
    },
    {
     "name": "stderr",
     "output_type": "stream",
     "text": [
      "\n"
     ]
    }
   ],
   "source": [
    "data = pd.DataFrame()\n",
    "idx = 0\n",
    "\n",
    "for i in tqdm(range(length)):\n",
    "    \n",
    "    artist_URI = top_artists.loc[i, \"artist_uri\"]\n",
    "    tracks = sp.artist_top_tracks(artist_URI)[\"tracks\"]\n",
    "    \n",
    "    for j in range(10):\n",
    "        try:\n",
    "            data.loc[idx, \"artist\"] = top_artists.loc[i,\"artist\"]\n",
    "            data.loc[idx, \"artist_uri\"] = top_artists.loc[i,\"artist_uri\"]\n",
    "            data.loc[idx, \"track_name\"] = tracks[j][\"name\"]\n",
    "            data.loc[idx, \"track_id\"] = tracks[j][\"id\"]\n",
    "            data.loc[idx, \"url\"] = tracks[j][\"preview_url\"]\n",
    "            idx += 1\n",
    "        except:\n",
    "            pass\n",
    "        \n",
    "data.info()"
   ]
  },
  {
   "cell_type": "code",
   "execution_count": 43,
   "id": "b7dd3918-1690-4418-977e-77ed08d07154",
   "metadata": {},
   "outputs": [],
   "source": [
    "data = data.dropna().reset_index(drop=True)\n",
    "\n",
    "# save for further use\n",
    "data.to_csv(\"spotify_data/songs_dataframe.csv\", index=False)"
   ]
  },
  {
   "cell_type": "code",
   "execution_count": null,
   "id": "d1bc8001-6799-4c93-9708-84b9356d4376",
   "metadata": {},
   "outputs": [],
   "source": []
  }
 ],
 "metadata": {
  "kernelspec": {
   "display_name": "Python 3.9 (tensorflow)",
   "language": "python",
   "name": "tensorflow"
  },
  "language_info": {
   "codemirror_mode": {
    "name": "ipython",
    "version": 3
   },
   "file_extension": ".py",
   "mimetype": "text/x-python",
   "name": "python",
   "nbconvert_exporter": "python",
   "pygments_lexer": "ipython3",
   "version": "3.9.15"
  }
 },
 "nbformat": 4,
 "nbformat_minor": 5
}
