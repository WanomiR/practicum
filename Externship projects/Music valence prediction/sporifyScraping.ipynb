{
 "cells": [
  {
   "cell_type": "markdown",
   "id": "275e3c73-6a55-4ed6-8e68-7ab986a2afbc",
   "metadata": {},
   "source": [
    "# Music Valence Prediction\n",
    "Spotify data | Gradient boosting | "
   ]
  },
  {
   "cell_type": "markdown",
   "id": "01ef2c7f-9ed0-4bef-9c3c-a006e5697102",
   "metadata": {},
   "source": [
    "***"
   ]
  },
  {
   "cell_type": "markdown",
   "id": "7d759547-a994-4483-9a32-fc3381449905",
   "metadata": {
    "toc-hr-collapsed": true
   },
   "source": [
    "## Project description"
   ]
  },
  {
   "cell_type": "markdown",
   "id": "c73bf6a2-b177-4d92-bf5e-462a9a880ede",
   "metadata": {},
   "source": [
    "### The objective"
   ]
  },
  {
   "cell_type": "markdown",
   "id": "1b97f95d-406d-462d-b72d-aef3828628d7",
   "metadata": {},
   "source": [
    "The goal of this task is to develop a Python-based module to predict the valence of newly released pop songs. Two approaches are to use as an input:\n",
    "- the audio data (e.g. .wav files)\n",
    "- the songs lyrics\n",
    "\n",
    "Publicly available datasets can be used for training and testing."
   ]
  },
  {
   "cell_type": "markdown",
   "id": "30840372-f10c-492a-88a4-140238dae2a4",
   "metadata": {},
   "source": [
    "### Audio features"
   ]
  },
  {
   "cell_type": "markdown",
   "id": "d15f39b7-0073-4055-965a-31a30d994dc2",
   "metadata": {},
   "source": [
    "For model training, the following audio features will be used:\n",
    "- Mel Frequency Cepstral Coefficients\n",
    "- Mel Spectogram\n",
    "- Spectral Contrast\n",
    "- Root Mean Square\n",
    "- Chroma Vector\n",
    "- Tonal Centroid Features"
   ]
  },
  {
   "cell_type": "markdown",
   "id": "c11fbc12-f77b-43c2-81ee-41d394dc02de",
   "metadata": {},
   "source": [
    "### The dataset"
   ]
  },
  {
   "cell_type": "markdown",
   "id": "34b5b8b5-49e3-42bd-8168-073474f13ec5",
   "metadata": {},
   "source": [
    "In this project, data from Spotify will be used:   \n",
    "\n",
    "Music attributes info is taken from this article on Medium: \n",
    "[Spotify Music Data Analysis: Part 3](https://medium.com/analytics-vidhya/spotify-music-data-analysis-part-3-9097829df16e)\n",
    "\n",
    "<a id=\"music-attributes\"></a>\n",
    "### Music Attributes\n",
    "\n",
    "**Tempo:** The tempo of the song. The overall estimated tempo of a track in beats per minute (BPM). In musical terminology, the tempo is the speed or pace of a given piece and derives directly from the average beat duration.\n",
    "\n",
    "**Energy:** Energy is a measure from 0.0 to 1.0 and represents a perceptual measure of intensity and activity. Typically, energetic tracks feel fast, loud, and noisy. Higher the value more energetic the song.\n",
    "\n",
    "**Danceability:** Danceability describes how suitable a track is for dancing based on a combination of musical elements including tempo, rhythm stability, beat strength, and overall regularity. The value ranges from 0 to 1. Higher the value more suitable the song is for dancing.\n",
    "\n",
    "**Loudness:** Loudness values are averaged across the entire track. It is the quality of a song. It ranges from -60 to 0 DB. Higher the value, the louder the song.\n",
    "\n",
    "**Valence:** A measure from 0.0 to 1.0 describing the musical positiveness conveyed by a track. Tracks with high valence sound more positive (e.g. happy, cheerful, euphoric), while tracks with low valence sound more negative (e.g. sad, depressed, angry)."
   ]
  },
  {
   "cell_type": "markdown",
   "id": "fb758fdd-2ea0-450f-b6ea-1b0884271a1d",
   "metadata": {},
   "source": [
    "*** "
   ]
  },
  {
   "cell_type": "markdown",
   "id": "94ed27de-7492-4dfa-89d7-670793d29896",
   "metadata": {},
   "source": [
    "## Imports and settings"
   ]
  },
  {
   "cell_type": "code",
   "execution_count": 41,
   "id": "b1dd80e4-a5ea-4fa7-86e0-a43005770359",
   "metadata": {},
   "outputs": [],
   "source": [
    "import requests\n",
    "import re\n",
    "import os\n",
    "from os import listdir\n",
    "\n",
    "import numpy as np\n",
    "import pandas as pd\n",
    "from bs4 import BeautifulSoup as BS\n",
    "from tqdm import tqdm\n",
    "\n",
    "import matplotlib.pyplot as plt\n",
    "import seaborn as sns\n",
    "\n",
    "import spotipy\n",
    "from spotipy.oauth2 import SpotifyClientCredentials "
   ]
  },
  {
   "cell_type": "code",
   "execution_count": 2,
   "id": "67b1ce75-bba7-468d-8c36-18e02514e9ae",
   "metadata": {},
   "outputs": [],
   "source": [
    "plt.style.use(\"seaborn-v0_8\")\n",
    "sns.set_style(\"dark\", {\"axes.facecolor\": \"0.95\"})\n",
    "sns.set_palette(\"mako\")\n",
    "\n",
    "plt.rcParams[\"figure.figsize\"] = (9, 4)\n",
    "%config InlineBackend.figure_format = \"retina\""
   ]
  },
  {
   "cell_type": "markdown",
   "id": "fa72b0ba-305f-4247-ac36-2723849f2bf8",
   "metadata": {},
   "source": [
    "***"
   ]
  },
  {
   "cell_type": "markdown",
   "id": "63a2c9f1-3f32-44bb-a538-209d59ae4123",
   "metadata": {
    "tags": []
   },
   "source": [
    "## Data scraping"
   ]
  },
  {
   "cell_type": "markdown",
   "id": "d89f2bab-3a64-4f2e-9110-dedac3967b4e",
   "metadata": {
    "tags": []
   },
   "source": [
    "### Top artists and songs"
   ]
  },
  {
   "cell_type": "markdown",
   "id": "95634272-1f83-4915-a49f-8a2622ce199f",
   "metadata": {},
   "source": [
    "Create a list of 1000 most popular artists using the data from the [Spotify Chart History](https://kworb.net/spotify/artists.html) web page. "
   ]
  },
  {
   "cell_type": "code",
   "execution_count": 3,
   "id": "ee8e005b-63a7-401b-a757-d2d7f8fcdc16",
   "metadata": {},
   "outputs": [
    {
     "data": {
      "text/plain": [
       "200"
      ]
     },
     "execution_count": 3,
     "metadata": {},
     "output_type": "execute_result"
    }
   ],
   "source": [
    "chart_hist_URL = \"https://kworb.net/spotify/artists.html\"\n",
    "\n",
    "req = requests.get(chart_hist_URL)\n",
    "req.status_code"
   ]
  },
  {
   "cell_type": "code",
   "execution_count": 4,
   "id": "b563d911-40a4-477f-ae67-94ec7d9cae41",
   "metadata": {
    "tags": []
   },
   "outputs": [],
   "source": [
    "# encode the page content for proper artist names displaying\n",
    "content = req.text.encode(\"latin-1\")\n",
    "\n",
    "soup = BS(content, 'lxml')"
   ]
  },
  {
   "cell_type": "code",
   "execution_count": 5,
   "id": "467018c2-0467-4d17-bb4a-01e97b2dc50a",
   "metadata": {},
   "outputs": [
    {
     "data": {
      "text/plain": [
       "1"
      ]
     },
     "execution_count": 5,
     "metadata": {},
     "output_type": "execute_result"
    }
   ],
   "source": [
    "# find the top artists table\n",
    "tabular_data = soup.find_all('table', attrs={\"id\":\"spotifyartistindex\"})\n",
    "len(tabular_data) # check how many found"
   ]
  },
  {
   "cell_type": "code",
   "execution_count": 6,
   "id": "f4324275-9242-4a1c-9882-83399987db94",
   "metadata": {},
   "outputs": [
    {
     "data": {
      "text/plain": [
       "1000"
      ]
     },
     "execution_count": 6,
     "metadata": {},
     "output_type": "execute_result"
    }
   ],
   "source": [
    "# keep only the first 1000 rows (without header)\n",
    "table_rows = tabular_data[0].find_all(\"tr\")[1:1001]\n",
    "len(table_rows)"
   ]
  },
  {
   "cell_type": "code",
   "execution_count": 7,
   "id": "01815951-ea57-4fe4-806f-aabc84e6a8f9",
   "metadata": {},
   "outputs": [],
   "source": [
    "# get the atrist names and number of streams\n",
    "artists = []\n",
    "streams = []\n",
    "\n",
    "for row in table_rows:\n",
    "    \n",
    "    artist = row.find(\"a\")\n",
    "    artist = re.search(\"(?<=>).+(?=</a>)\", str(artist)).group()\n",
    "    artists.append(artist)\n",
    "    \n",
    "    num_streams = row.find_all(\"td\")[-1]\n",
    "    num_streams = re.search(\"(?<=<td>).+(?=</td>)\", str(num_streams)).group()\n",
    "    num_streams = int(\"\".join(re.split(\",\", num_streams)))\n",
    "    streams.append(num_streams)"
   ]
  },
  {
   "cell_type": "code",
   "execution_count": 8,
   "id": "0effe015-ed13-471f-a134-fcf139232830",
   "metadata": {},
   "outputs": [
    {
     "data": {
      "text/html": [
       "<div>\n",
       "<style scoped>\n",
       "    .dataframe tbody tr th:only-of-type {\n",
       "        vertical-align: middle;\n",
       "    }\n",
       "\n",
       "    .dataframe tbody tr th {\n",
       "        vertical-align: top;\n",
       "    }\n",
       "\n",
       "    .dataframe thead th {\n",
       "        text-align: right;\n",
       "    }\n",
       "</style>\n",
       "<table border=\"1\" class=\"dataframe\">\n",
       "  <thead>\n",
       "    <tr style=\"text-align: right;\">\n",
       "      <th></th>\n",
       "      <th>artist</th>\n",
       "      <th>num_of_srtreams</th>\n",
       "    </tr>\n",
       "  </thead>\n",
       "  <tbody>\n",
       "    <tr>\n",
       "      <th>0</th>\n",
       "      <td>Bad Bunny</td>\n",
       "      <td>33481443936</td>\n",
       "    </tr>\n",
       "    <tr>\n",
       "      <th>1</th>\n",
       "      <td>Drake</td>\n",
       "      <td>27276371805</td>\n",
       "    </tr>\n",
       "    <tr>\n",
       "      <th>2</th>\n",
       "      <td>Ed Sheeran</td>\n",
       "      <td>20113241185</td>\n",
       "    </tr>\n",
       "    <tr>\n",
       "      <th>3</th>\n",
       "      <td>Justin Bieber</td>\n",
       "      <td>20109642835</td>\n",
       "    </tr>\n",
       "    <tr>\n",
       "      <th>4</th>\n",
       "      <td>J Balvin</td>\n",
       "      <td>19123851607</td>\n",
       "    </tr>\n",
       "  </tbody>\n",
       "</table>\n",
       "</div>"
      ],
      "text/plain": [
       "          artist  num_of_srtreams\n",
       "0      Bad Bunny      33481443936\n",
       "1          Drake      27276371805\n",
       "2     Ed Sheeran      20113241185\n",
       "3  Justin Bieber      20109642835\n",
       "4       J Balvin      19123851607"
      ]
     },
     "execution_count": 8,
     "metadata": {},
     "output_type": "execute_result"
    }
   ],
   "source": [
    "# create a dataframe\n",
    "top_artists = pd.DataFrame(dict(artist=artists, num_of_srtreams=streams))\n",
    "top_artists.head()"
   ]
  },
  {
   "cell_type": "markdown",
   "id": "57b120c5-15ee-4671-8e9e-a631af5850f7",
   "metadata": {},
   "source": [
    "***"
   ]
  },
  {
   "cell_type": "markdown",
   "id": "0311fd41-8357-4e79-83dc-35fec70fe192",
   "metadata": {
    "toc-hr-collapsed": true
   },
   "source": [
    "### Spotify: obtain available tracks"
   ]
  },
  {
   "cell_type": "markdown",
   "id": "b8e48405-454a-4cc6-ae16-95cd775c27f2",
   "metadata": {},
   "source": [
    "#### Login items"
   ]
  },
  {
   "cell_type": "code",
   "execution_count": 9,
   "id": "2dc85343-7926-4f14-a3d2-565fb8938191",
   "metadata": {},
   "outputs": [],
   "source": [
    "# read Spotify login items\n",
    "login_items = pd.read_csv(\"spotify_data/spotify_login_items.csv\", index_col=0)\n",
    "login_items = login_items.squeeze() # convert to a series"
   ]
  },
  {
   "cell_type": "code",
   "execution_count": 10,
   "id": "8e66cd99-c770-4142-b73d-99e720f500c7",
   "metadata": {},
   "outputs": [],
   "source": [
    "# authentification\n",
    "credentials = SpotifyClientCredentials(client_id=login_items.client_id,\n",
    "                                       client_secret=login_items.client_secret)\n",
    "\n",
    "sp = spotipy.Spotify(client_credentials_manager=credentials)"
   ]
  },
  {
   "cell_type": "markdown",
   "id": "c74d8f4a-0653-496e-8470-2f8b2ec04a60",
   "metadata": {},
   "source": [
    "#### Get artist's URIs"
   ]
  },
  {
   "cell_type": "code",
   "execution_count": 11,
   "id": "c53af21a-47ad-49bb-86de-6de91ad8d16e",
   "metadata": {},
   "outputs": [
    {
     "name": "stderr",
     "output_type": "stream",
     "text": [
      "100%|███████████████████████████████████████| 1000/1000 [02:31<00:00,  6.62it/s]\n"
     ]
    }
   ],
   "source": [
    "for i in tqdm(range(1000)):\n",
    "\n",
    "    arist_name = top_artists.loc[i,\"artist\"]\n",
    "    try:\n",
    "        artists = sp.search(q=\"artist:\" + arist_name, type=\"artist\", limit=1)\n",
    "        artist_URI = artists[\"artists\"][\"items\"][0][\"uri\"]\n",
    "        top_artists.loc[i, \"artist_uri\"] = artist_URI\n",
    "    except:\n",
    "        top_artists.loc[i, \"artist_uri\"] = None"
   ]
  },
  {
   "cell_type": "code",
   "execution_count": 12,
   "id": "e334fae4-4468-44a9-8f07-c48c61ed6f98",
   "metadata": {},
   "outputs": [
    {
     "name": "stdout",
     "output_type": "stream",
     "text": [
      "Artists found: 971\n"
     ]
    },
    {
     "data": {
      "text/html": [
       "<div>\n",
       "<style scoped>\n",
       "    .dataframe tbody tr th:only-of-type {\n",
       "        vertical-align: middle;\n",
       "    }\n",
       "\n",
       "    .dataframe tbody tr th {\n",
       "        vertical-align: top;\n",
       "    }\n",
       "\n",
       "    .dataframe thead th {\n",
       "        text-align: right;\n",
       "    }\n",
       "</style>\n",
       "<table border=\"1\" class=\"dataframe\">\n",
       "  <thead>\n",
       "    <tr style=\"text-align: right;\">\n",
       "      <th></th>\n",
       "      <th>artist</th>\n",
       "      <th>num_of_srtreams</th>\n",
       "      <th>artist_uri</th>\n",
       "    </tr>\n",
       "  </thead>\n",
       "  <tbody>\n",
       "    <tr>\n",
       "      <th>0</th>\n",
       "      <td>Bad Bunny</td>\n",
       "      <td>33481443936</td>\n",
       "      <td>spotify:artist:4q3ewBCX7sLwd24euuV69X</td>\n",
       "    </tr>\n",
       "    <tr>\n",
       "      <th>1</th>\n",
       "      <td>Drake</td>\n",
       "      <td>27276371805</td>\n",
       "      <td>spotify:artist:3TVXtAsR1Inumwj472S9r4</td>\n",
       "    </tr>\n",
       "    <tr>\n",
       "      <th>2</th>\n",
       "      <td>Ed Sheeran</td>\n",
       "      <td>20113241185</td>\n",
       "      <td>spotify:artist:6eUKZXaKkcviH0Ku9w2n3V</td>\n",
       "    </tr>\n",
       "    <tr>\n",
       "      <th>3</th>\n",
       "      <td>Justin Bieber</td>\n",
       "      <td>20109642835</td>\n",
       "      <td>spotify:artist:1uNFoZAHBGtllmzznpCI3s</td>\n",
       "    </tr>\n",
       "    <tr>\n",
       "      <th>4</th>\n",
       "      <td>J Balvin</td>\n",
       "      <td>19123851607</td>\n",
       "      <td>spotify:artist:1vyhD5VmyZ7KMfW5gqLgo5</td>\n",
       "    </tr>\n",
       "  </tbody>\n",
       "</table>\n",
       "</div>"
      ],
      "text/plain": [
       "          artist  num_of_srtreams                             artist_uri\n",
       "0      Bad Bunny      33481443936  spotify:artist:4q3ewBCX7sLwd24euuV69X\n",
       "1          Drake      27276371805  spotify:artist:3TVXtAsR1Inumwj472S9r4\n",
       "2     Ed Sheeran      20113241185  spotify:artist:6eUKZXaKkcviH0Ku9w2n3V\n",
       "3  Justin Bieber      20109642835  spotify:artist:1uNFoZAHBGtllmzznpCI3s\n",
       "4       J Balvin      19123851607  spotify:artist:1vyhD5VmyZ7KMfW5gqLgo5"
      ]
     },
     "execution_count": 12,
     "metadata": {},
     "output_type": "execute_result"
    }
   ],
   "source": [
    "top_artists = top_artists.dropna().reset_index(drop=True)\n",
    "\n",
    "length = len(top_artists)\n",
    "print(f\"Artists found: {length}\")\n",
    "\n",
    "top_artists.head()"
   ]
  },
  {
   "cell_type": "markdown",
   "id": "3f91c359-7d59-48f0-8903-988b312ce62d",
   "metadata": {},
   "source": [
    "#### Get 10 songs for each artist"
   ]
  },
  {
   "cell_type": "code",
   "execution_count": 85,
   "id": "a2741a72-9b71-4e6a-b9e6-3a3181b221b7",
   "metadata": {
    "tags": []
   },
   "outputs": [
    {
     "name": "stderr",
     "output_type": "stream",
     "text": [
      "100%|█████████████████████████████████████████| 971/971 [03:23<00:00,  4.77it/s]"
     ]
    },
    {
     "name": "stdout",
     "output_type": "stream",
     "text": [
      "<class 'pandas.core.frame.DataFrame'>\n",
      "Int64Index: 9607 entries, 0 to 9606\n",
      "Data columns (total 6 columns):\n",
      " #   Column       Non-Null Count  Dtype \n",
      "---  ------       --------------  ----- \n",
      " 0   artist       9607 non-null   object\n",
      " 1   artist_uri   9607 non-null   object\n",
      " 2   track_name   9607 non-null   object\n",
      " 3   track_id     9607 non-null   object\n",
      " 4   track_uri    9607 non-null   object\n",
      " 5   preview_url  7814 non-null   object\n",
      "dtypes: object(6)\n",
      "memory usage: 783.4+ KB\n"
     ]
    },
    {
     "name": "stderr",
     "output_type": "stream",
     "text": [
      "\n"
     ]
    }
   ],
   "source": [
    "data = pd.DataFrame()\n",
    "idx = 0\n",
    "\n",
    "for i in tqdm(range(length)):\n",
    "\n",
    "    artist_URI = top_artists.loc[i, \"artist_uri\"]\n",
    "    tracks = sp.artist_top_tracks(artist_URI)[\"tracks\"]\n",
    "\n",
    "    for j in range(10):\n",
    "        try:\n",
    "            data.loc[idx, \"artist\"] = top_artists.loc[i,\"artist\"]\n",
    "            data.loc[idx, \"artist_uri\"] = top_artists.loc[i,\"artist_uri\"]\n",
    "            data.loc[idx, \"track_name\"] = tracks[j][\"name\"]\n",
    "            data.loc[idx, \"track_id\"] = tracks[j][\"id\"]\n",
    "            data.loc[idx, \"track_uri\"] = tracks[j][\"uri\"]\n",
    "            data.loc[idx, \"preview_url\"] = tracks[j][\"preview_url\"]\n",
    "            idx += 1\n",
    "        except:\n",
    "            pass\n",
    "\n",
    "data.info()"
   ]
  },
  {
   "cell_type": "markdown",
   "id": "87918751-98bb-42f9-b22c-4b35f602a882",
   "metadata": {},
   "source": [
    "#### Music attributes"
   ]
  },
  {
   "cell_type": "markdown",
   "id": "8179e4fb-373d-4cab-9aca-65b2f00867e4",
   "metadata": {},
   "source": [
    "Get [music attributes](#music-attributes) for the tracks in the resutlting dataset."
   ]
  },
  {
   "cell_type": "code",
   "execution_count": 98,
   "id": "715596d7-2b31-42e9-827b-81f6adb76bef",
   "metadata": {},
   "outputs": [
    {
     "name": "stderr",
     "output_type": "stream",
     "text": [
      "100%|███████████████████████████████████████| 7814/7814 [15:17<00:00,  8.51it/s]"
     ]
    },
    {
     "name": "stdout",
     "output_type": "stream",
     "text": [
      "<class 'pandas.core.frame.DataFrame'>\n",
      "RangeIndex: 7814 entries, 0 to 7813\n",
      "Data columns (total 11 columns):\n",
      " #   Column        Non-Null Count  Dtype  \n",
      "---  ------        --------------  -----  \n",
      " 0   artist        7814 non-null   object \n",
      " 1   artist_uri    7814 non-null   object \n",
      " 2   track_name    7814 non-null   object \n",
      " 3   track_id      7814 non-null   object \n",
      " 4   track_uri     7814 non-null   object \n",
      " 5   preview_url   7814 non-null   object \n",
      " 6   tempo         7811 non-null   float64\n",
      " 7   energy        7811 non-null   float64\n",
      " 8   danceability  7811 non-null   float64\n",
      " 9   loudness      7811 non-null   float64\n",
      " 10  valence       7811 non-null   float64\n",
      "dtypes: float64(5), object(6)\n",
      "memory usage: 671.6+ KB\n"
     ]
    },
    {
     "name": "stderr",
     "output_type": "stream",
     "text": [
      "\n"
     ]
    }
   ],
   "source": [
    "data.shape[0]\n",
    "music_attributes = [\"tempo\",\"energy\",\"danceability\", \"loudness\",\"valence\"]\n",
    "\n",
    "for i in tqdm(range(data.shape[0])):\n",
    "\n",
    "    track_uri = data.loc[i, \"track_uri\"]\n",
    "    audio_features = sp.audio_features(track_uri)[0]\n",
    "    for attribute in music_attributes:\n",
    "        try:\n",
    "            data.loc[i, attribute] = audio_features[attribute]\n",
    "\n",
    "        except:\n",
    "            data.loc[i, attribute] = None\n",
    "\n",
    "data.info()"
   ]
  },
  {
   "cell_type": "code",
   "execution_count": 103,
   "id": "74d51a74-add4-4671-aee9-dca9643205d7",
   "metadata": {
    "tags": []
   },
   "outputs": [
    {
     "name": "stdout",
     "output_type": "stream",
     "text": [
      "Dropped out total:  53\n"
     ]
    },
    {
     "data": {
      "text/plain": [
       "10      Billie Eilish\n",
       "13         Juice WRLD\n",
       "20    Imagine Dragons\n",
       "28       Shawn Mendes\n",
       "34          21 Savage\n",
       "Name: artist, dtype: object"
      ]
     },
     "execution_count": 103,
     "metadata": {},
     "output_type": "execute_result"
    }
   ],
   "source": [
    "# look at the list of excluded artists\n",
    "dropped_out = top_artists[\n",
    "                    ~top_artists[\"artist\"]\n",
    "                    .isin(data[\"artist\"])\n",
    "             ][\"artist\"]\n",
    "print(\"Dropped out total: \", len(dropped_out))\n",
    "dropped_out.head()"
   ]
  },
  {
   "cell_type": "markdown",
   "id": "5868ffe1-63fa-4ee3-9fc8-084165bec463",
   "metadata": {},
   "source": [
    "#### Download audio"
   ]
  },
  {
   "cell_type": "code",
   "execution_count": 10,
   "id": "6f014519-8868-4a18-8b03-6c18e2c049c3",
   "metadata": {},
   "outputs": [
    {
     "name": "stderr",
     "output_type": "stream",
     "text": [
      "100%|█████████████████████████████████████| 7811/7811 [1:00:33<00:00,  2.15it/s]\n"
     ]
    }
   ],
   "source": [
    "for i in tqdm(range(data.shape[0])):\n",
    "    \n",
    "    url = data.loc[i, \"preview_url\"]\n",
    "    track_id = data.loc[i, \"track_id\"]\n",
    "    file_path = f\"spotify_data/mp3_files/{track_id}.mp3\"\n",
    "    \n",
    "    try:\n",
    "        r = requests.get(url, timeout=2)\n",
    "        with open(file_path, \"wb\") as f:\n",
    "            f.write(r.content)\n",
    "        data.loc[i, \"local_file_path\"] = file_path\n",
    "    except:\n",
    "        pass"
   ]
  },
  {
   "cell_type": "code",
   "execution_count": 21,
   "id": "cf64c4c8-dacd-4264-91de-8359c52de277",
   "metadata": {},
   "outputs": [
    {
     "name": "stdout",
     "output_type": "stream",
     "text": [
      "<class 'pandas.core.frame.DataFrame'>\n",
      "RangeIndex: 7811 entries, 0 to 7810\n",
      "Data columns (total 12 columns):\n",
      " #   Column           Non-Null Count  Dtype  \n",
      "---  ------           --------------  -----  \n",
      " 0   artist           7811 non-null   object \n",
      " 1   artist_uri       7811 non-null   object \n",
      " 2   track_name       7811 non-null   object \n",
      " 3   track_id         7811 non-null   object \n",
      " 4   track_uri        7811 non-null   object \n",
      " 5   preview_url      7811 non-null   object \n",
      " 6   tempo            7811 non-null   float64\n",
      " 7   energy           7811 non-null   float64\n",
      " 8   danceability     7811 non-null   float64\n",
      " 9   loudness         7811 non-null   float64\n",
      " 10  valence          7811 non-null   float64\n",
      " 11  local_file_path  7811 non-null   object \n",
      "dtypes: float64(5), object(7)\n",
      "memory usage: 732.4+ KB\n"
     ]
    }
   ],
   "source": [
    "data.info()"
   ]
  },
  {
   "cell_type": "code",
   "execution_count": 42,
   "id": "78a454ab-d8d2-4d75-bcc3-075ad487a416",
   "metadata": {},
   "outputs": [
    {
     "data": {
      "text/plain": [
       "6801"
      ]
     },
     "execution_count": 42,
     "metadata": {},
     "output_type": "execute_result"
    }
   ],
   "source": [
    "# check how many files donwloaded\n",
    "downloaded = [s[:-4] for s in listdir(\"spotify_data/mp3_files/\")]\n",
    "len(downloaded)"
   ]
  },
  {
   "cell_type": "code",
   "execution_count": 43,
   "id": "8a55a8d1-38eb-49c0-ba8b-461b2d3d8c3c",
   "metadata": {},
   "outputs": [
    {
     "data": {
      "text/plain": [
       "1011"
      ]
     },
     "execution_count": 43,
     "metadata": {},
     "output_type": "execute_result"
    }
   ],
   "source": [
    "# see how many tracks are duplicates\n",
    "data.duplicated(subset=[\"track_name\",\"track_id\",\"local_file_path\"]).sum()"
   ]
  },
  {
   "cell_type": "code",
   "execution_count": 45,
   "id": "0f4c3c07-f46e-4c88-b273-5ec9d16ef1fd",
   "metadata": {},
   "outputs": [
    {
     "name": "stdout",
     "output_type": "stream",
     "text": [
      "<class 'pandas.core.frame.DataFrame'>\n",
      "Int64Index: 6800 entries, 0 to 7810\n",
      "Data columns (total 12 columns):\n",
      " #   Column           Non-Null Count  Dtype  \n",
      "---  ------           --------------  -----  \n",
      " 0   artist           6800 non-null   object \n",
      " 1   artist_uri       6800 non-null   object \n",
      " 2   track_name       6800 non-null   object \n",
      " 3   track_id         6800 non-null   object \n",
      " 4   track_uri        6800 non-null   object \n",
      " 5   preview_url      6800 non-null   object \n",
      " 6   tempo            6800 non-null   float64\n",
      " 7   energy           6800 non-null   float64\n",
      " 8   danceability     6800 non-null   float64\n",
      " 9   loudness         6800 non-null   float64\n",
      " 10  valence          6800 non-null   float64\n",
      " 11  local_file_path  6800 non-null   object \n",
      "dtypes: float64(5), object(7)\n",
      "memory usage: 690.6+ KB\n"
     ]
    }
   ],
   "source": [
    "# drop duplicated tracks from the dataframe\n",
    "data.drop_duplicates(subset=[\"track_name\",\"track_id\",\"local_file_path\"], \n",
    "                     inplace=True)\n",
    "data.info()"
   ]
  },
  {
   "cell_type": "code",
   "execution_count": 47,
   "id": "53df5114-e917-42f2-bf2c-7e7a0827bc00",
   "metadata": {},
   "outputs": [],
   "source": [
    "# data = pd.read_csv(\"spotify_data/songs_data.csv\")\n",
    "# data.info()"
   ]
  },
  {
   "cell_type": "code",
   "execution_count": 46,
   "id": "f7849ccc-df9c-4086-ada9-347d40c9eb7f",
   "metadata": {},
   "outputs": [],
   "source": [
    "# data = data.dropna().reset_index(drop=True)\n",
    "\n",
    "# save for the further use\n",
    "data.to_csv(\"spotify_data/songs_data.csv\", index=False)"
   ]
  },
  {
   "cell_type": "markdown",
   "id": "9156d7fe-8e78-46b1-8c35-878d780dbc37",
   "metadata": {},
   "source": [
    "Now we have data and audio files for 6800 songs by the artists with the most streams."
   ]
  },
  {
   "cell_type": "markdown",
   "id": "8a34c4ab-6f9c-4818-ac6c-34b868dcd36a",
   "metadata": {},
   "source": [
    "***"
   ]
  }
 ],
 "metadata": {
  "kernelspec": {
   "display_name": "Python 3.9 (tensorflow)",
   "language": "python",
   "name": "tensorflow"
  },
  "language_info": {
   "codemirror_mode": {
    "name": "ipython",
    "version": 3
   },
   "file_extension": ".py",
   "mimetype": "text/x-python",
   "name": "python",
   "nbconvert_exporter": "python",
   "pygments_lexer": "ipython3",
   "version": "3.9.15"
  }
 },
 "nbformat": 4,
 "nbformat_minor": 5
}
